{
 "cells": [
  {
   "cell_type": "markdown",
   "metadata": {
    "id": "vizGCgXXkqMo"
   },
   "source": [
    "Extracting the Zip File"
   ]
  },
  {
   "cell_type": "code",
   "execution_count": 11,
   "metadata": {
    "colab": {
     "base_uri": "https://localhost:8080/"
    },
    "id": "3ZcW3Sp7e4GM",
    "outputId": "61112715-25e8-4a57-f38c-b22a89d1d8d3"
   },
   "outputs": [
    {
     "name": "stdout",
     "output_type": "stream",
     "text": [
      "Extraction complete.\n"
     ]
    }
   ],
   "source": [
    "import zipfile\n",
    "import os\n",
    "\n",
    "zip_file_path = '/content/Resized-handwritten-signature-verification.zip'\n",
    "extracted_folder = '/content/Resized-224x224-signature-verification/'\n",
    "\n",
    "# Create a ZipFile object\n",
    "with zipfile.ZipFile(zip_file_path, 'r') as zip_ref:\n",
    "    # Extract all the contents to the target folder\n",
    "    zip_ref.extractall(extracted_folder)\n",
    "\n",
    "print(\"Extraction complete.\")\n"
   ]
  },
  {
   "cell_type": "markdown",
   "metadata": {
    "id": "T1KPyOktkvij"
   },
   "source": [
    "Delete Any Files not belonging to a folder"
   ]
  },
  {
   "cell_type": "code",
   "execution_count": 13,
   "metadata": {
    "colab": {
     "base_uri": "https://localhost:8080/"
    },
    "id": "8cV5x5IOgSba",
    "outputId": "2469f4a8-83d3-4043-e368-dd05314cd5fd"
   },
   "outputs": [
    {
     "name": "stdout",
     "output_type": "stream",
     "text": [
      "Cleanup complete.\n"
     ]
    }
   ],
   "source": [
    "import os\n",
    "\n",
    "folder_path = '/content/Resized-224x224-signature-verification'\n",
    "extensions_to_keep = ['.jpg', '.png', '.gif']  # Add the extensions you want to keep\n",
    "\n",
    "# Delete files that are not inside a folder and do not have specified extensions\n",
    "for file in os.listdir(folder_path):\n",
    "    file_path = os.path.join(folder_path, file)\n",
    "\n",
    "    # Check if the file is a regular file (not a directory) in the root of the specified folder\n",
    "    if os.path.isfile(file_path):\n",
    "        # Check if the file has an extension and if it's not in the list of extensions to keep\n",
    "        if '.' in file and not any(file.lower().endswith(ext) for ext in extensions_to_keep):\n",
    "            os.remove(file_path)\n",
    "\n",
    "print(\"Cleanup complete.\")\n",
    "\n",
    "\n"
   ]
  },
  {
   "cell_type": "markdown",
   "metadata": {
    "id": "YfbZ_mfKk1mt"
   },
   "source": [
    "Renaming The folders"
   ]
  },
  {
   "cell_type": "code",
   "execution_count": 14,
   "metadata": {
    "colab": {
     "base_uri": "https://localhost:8080/"
    },
    "id": "eXYdQrN4hJWv",
    "outputId": "2e8bbddb-e027-4e4e-dee2-5ffc79de91a6"
   },
   "outputs": [
    {
     "name": "stdout",
     "output_type": "stream",
     "text": [
      "Folder renaming complete.\n"
     ]
    }
   ],
   "source": [
    "import os\n",
    "\n",
    "folder_path = '/content/Resized-224x224-signature-verification'\n",
    "\n",
    "# Get a list of all folders in the specified path\n",
    "folders = [f for f in os.listdir(folder_path) if os.path.isdir(os.path.join(folder_path, f))]\n",
    "\n",
    "# Sort the folders to ensure consistent numbering\n",
    "folders.sort()\n",
    "\n",
    "# Rename the folders with the desired format\n",
    "for index, folder in enumerate(folders, start=1):\n",
    "    new_name = f'Person-{str(index).zfill(4)}'\n",
    "    old_path = os.path.join(folder_path, folder)\n",
    "    new_path = os.path.join(folder_path, new_name)\n",
    "\n",
    "    os.rename(old_path, new_path)\n",
    "\n",
    "print(\"Folder renaming complete.\")\n"
   ]
  },
  {
   "cell_type": "markdown",
   "metadata": {
    "id": "ocryl9-ilaUV"
   },
   "source": [
    "Renaming the Images in Each Folder"
   ]
  },
  {
   "cell_type": "code",
   "execution_count": 15,
   "metadata": {
    "colab": {
     "base_uri": "https://localhost:8080/"
    },
    "id": "SncwtNFphpuf",
    "outputId": "9f2ed6ff-133a-4069-b70d-2ecf22e175d1"
   },
   "outputs": [
    {
     "name": "stdout",
     "output_type": "stream",
     "text": [
      "File renaming complete.\n"
     ]
    }
   ],
   "source": [
    "import os\n",
    "\n",
    "folder_path = '/content/Resized-224x224-signature-verification/'\n",
    "\n",
    "# Get a list of all folders in the specified path\n",
    "folders = [f for f in os.listdir(folder_path) if os.path.isdir(os.path.join(folder_path, f))]\n",
    "\n",
    "# Sort the folders to ensure consistent numbering\n",
    "folders.sort()\n",
    "\n",
    "# Iterate through each folder and rename the files\n",
    "for index, folder in enumerate(folders, start=1):\n",
    "    folder_path = os.path.join('/content/Resized-224x224-signature-verification/', folder)\n",
    "    files = os.listdir(folder_path)\n",
    "\n",
    "    # Sort the files to ensure consistent numbering\n",
    "    files.sort()\n",
    "\n",
    "    # Rename each file in the folder\n",
    "    for file_index, file_name in enumerate(files, start=1):\n",
    "        base_name, file_extension = os.path.splitext(file_name)\n",
    "        new_name = f'{str(file_index).zfill(3)}{file_extension}'\n",
    "        old_path = os.path.join(folder_path, file_name)\n",
    "        new_path = os.path.join(folder_path, new_name)\n",
    "\n",
    "        os.rename(old_path, new_path)\n",
    "\n",
    "print(\"File renaming complete.\")\n",
    "\n"
   ]
  },
  {
   "cell_type": "markdown",
   "metadata": {
    "id": "la19hWxyoGb3"
   },
   "source": [
    "Delete Any Files not belonging to a folder"
   ]
  },
  {
   "cell_type": "code",
   "execution_count": 20,
   "metadata": {
    "colab": {
     "base_uri": "https://localhost:8080/"
    },
    "id": "O_1Z5WFNnyHv",
    "outputId": "92164fcf-6a59-45f9-fb1d-3cb22d488b64"
   },
   "outputs": [
    {
     "name": "stdout",
     "output_type": "stream",
     "text": [
      "Cleanup complete.\n"
     ]
    }
   ],
   "source": [
    "import os\n",
    "\n",
    "folder_path = '/content/Resized-224x224-signature-verification'\n",
    "\n",
    "# Delete files that are not inside a folder\n",
    "for file in os.listdir(folder_path):\n",
    "    file_path = os.path.join(folder_path, file)\n",
    "\n",
    "    # Check if the file is a regular file (not a directory) in the root of the specified folder\n",
    "    if os.path.isfile(file_path) and not os.path.basename(file_path).startswith('.'):\n",
    "        os.remove(file_path)\n",
    "\n",
    "print(\"Cleanup complete.\")\n"
   ]
  },
  {
   "cell_type": "markdown",
   "metadata": {
    "id": "hlPsbPWumFXU"
   },
   "source": [
    "Zip and download the cleaned data as a backup"
   ]
  },
  {
   "cell_type": "code",
   "execution_count": 21,
   "metadata": {
    "colab": {
     "base_uri": "https://localhost:8080/"
    },
    "id": "Jm4kGljalry4",
    "outputId": "88095618-357b-4a34-ab44-c16dfa2090c3"
   },
   "outputs": [
    {
     "name": "stdout",
     "output_type": "stream",
     "text": [
      "Zipped data saved at: /content/Clean-Data-Resized-224x224-signature-verification.zip\n"
     ]
    }
   ],
   "source": [
    "import os\n",
    "import shutil\n",
    "\n",
    "source_folder = '/content/Resized-224x224-signature-verification'\n",
    "zip_name = 'Clean-Data-Resized-224x224-signature-verification.zip'\n",
    "destination_folder = '/content'\n",
    "\n",
    "# Create a zip file containing the contents of the source folder\n",
    "shutil.make_archive(os.path.join(destination_folder, zip_name), 'zip', source_folder)\n",
    "\n",
    "print(f\"Zipped data saved at: {os.path.join(destination_folder, zip_name)}\")\n"
   ]
  },
  {
   "cell_type": "markdown",
   "metadata": {
    "id": "e4qlFoKYmXQ1"
   },
   "source": [
    "Data Split (Train and Validation) + Visualization of Data +"
   ]
  },
  {
   "cell_type": "code",
   "execution_count": 16,
   "metadata": {
    "id": "cYYNSSLCiJYF"
   },
   "outputs": [],
   "source": [
    "import tensorflow as tf\n",
    "import numpy as np"
   ]
  },
  {
   "cell_type": "code",
   "execution_count": 24,
   "metadata": {
    "id": "Icxq4lbNiNM6"
   },
   "outputs": [],
   "source": [
    "base_dir=r\"/content/Resized-224x224-signature-verification\""
   ]
  },
  {
   "cell_type": "code",
   "execution_count": null,
   "metadata": {
    "id": "ZbS_wDJPljPq"
   },
   "outputs": [],
   "source": []
  },
  {
   "cell_type": "code",
   "execution_count": 34,
   "metadata": {
    "colab": {
     "base_uri": "https://localhost:8080/",
     "height": 426
    },
    "id": "Np2ibchGqUl3",
    "outputId": "17d39ebb-d3a5-45a1-868f-9e8ac7b2433b"
   },
   "outputs": [
    {
     "data": {
      "image/png": "[encoded data removed]",
      "text/plain": [
       "<Figure size 640x480 with 1 Axes>"
      ]
     },
     "metadata": {},
     "output_type": "display_data"
    }
   ],
   "source": [
    "import os\n",
    "import matplotlib.pyplot as plt\n",
    "\n",
    "folder_path = '/content/Resized-224x224-signature-verification'\n",
    "\n",
    "# Get a list of all subdirectories in the specified path\n",
    "subdirs = [d for d in os.listdir(folder_path) if os.path.isdir(os.path.join(folder_path, d))]\n",
    "\n",
    "# Sort the subdirectories to ensure consistent numbering\n",
    "subdirs.sort()\n",
    "\n",
    "# Count the number of files in each subdirectory\n",
    "num_files = [len(os.listdir(os.path.join(folder_path, subdir))) for subdir in subdirs]\n",
    "\n",
    "# Plot the number of files in each subdirectory without showing x-axis ticks\n",
    "plt.bar(range(1, len(subdirs) + 1), num_files)\n",
    "plt.xlabel('Classes')\n",
    "plt.ylabel('Number of files')\n",
    "plt.xticks([])  # Removes x-axis ticks\n",
    "plt.show()\n"
   ]
  },
  {
   "cell_type": "code",
   "execution_count": null,
   "metadata": {
    "id": "ybPgnik3wROW"
   },
   "outputs": [],
   "source": []
  },
  {
   "cell_type": "code",
   "execution_count": null,
   "metadata": {
    "id": "ONKmCLiRwVIM"
   },
   "outputs": [],
   "source": []
  }
 ],
 "metadata": {
  "accelerator": "GPU",
  "colab": {
   "gpuType": "T4",
   "provenance": []
  },
  "kernelspec": {
   "display_name": "Python 3 (ipykernel)",
   "language": "python",
   "name": "python3"
  },
  "language_info": {
   "codemirror_mode": {
    "name": "ipython",
    "version": 3
   },
   "file_extension": ".py",
   "mimetype": "text/x-python",
   "name": "python",
   "nbconvert_exporter": "python",
   "pygments_lexer": "ipython3",
   "version": "3.11.3"
  }
 },
 "nbformat": 4,
 "nbformat_minor": 1
}
