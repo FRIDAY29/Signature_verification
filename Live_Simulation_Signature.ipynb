{
 "cells": [
  {
   "cell_type": "code",
   "execution_count": 3,
   "metadata": {
    "colab": {
     "base_uri": "https://localhost:8080/"
    },
    "id": "4G2PgdOAjq03",
    "outputId": "3e8dc576-372a-4c0d-c7d5-2680cac0414e"
   },
   "outputs": [
    {
     "name": "stdout",
     "output_type": "stream",
     "text": [
      "Note: you may need to restart the kernel to use updated packages.Requirement already satisfied: gradio in c:\\users\\frida\\appdata\\local\\programs\\python\\python311\\lib\\site-packages (4.3.0)\n",
      "Requirement already satisfied: aiofiles<24.0,>=22.0 in c:\\users\\frida\\appdata\\local\\programs\\python\\python311\\lib\\site-packages (from gradio) (23.2.1)\n",
      "Requirement already satisfied: altair<6.0,>=4.2.0 in c:\\users\\frida\\appdata\\local\\programs\\python\\python311\\lib\\site-packages (from gradio) (5.1.2)\n",
      "Requirement already satisfied: fastapi in c:\\users\\frida\\appdata\\local\\programs\\python\\python311\\lib\\site-packages (from gradio) (0.104.1)\n",
      "Requirement already satisfied: ffmpy in c:\\users\\frida\\appdata\\local\\programs\\python\\python311\\lib\\site-packages (from gradio) (0.3.1)\n",
      "Requirement already satisfied: gradio-client==0.7.0 in c:\\users\\frida\\appdata\\local\\programs\\python\\python311\\lib\\site-packages (from gradio) (0.7.0)\n",
      "Requirement already satisfied: httpx in c:\\users\\frida\\appdata\\local\\programs\\python\\python311\\lib\\site-packages (from gradio) (0.25.1)\n",
      "Requirement already satisfied: huggingface-hub>=0.14.0 in c:\\users\\frida\\appdata\\local\\programs\\python\\python311\\lib\\site-packages (from gradio) (0.19.1)\n",
      "Requirement already satisfied: importlib-resources<7.0,>=1.3 in c:\\users\\frida\\appdata\\local\\programs\\python\\python311\\lib\\site-packages (from gradio) (6.1.1)\n",
      "Requirement already satisfied: jinja2<4.0 in c:\\users\\frida\\appdata\\local\\programs\\python\\python311\\lib\\site-packages (from gradio) (3.1.2)\n",
      "Requirement already satisfied: markupsafe~=2.0 in c:\\users\\frida\\appdata\\local\\programs\\python\\python311\\lib\\site-packages (from gradio) (2.1.3)\n",
      "Requirement already satisfied: matplotlib~=3.0 in c:\\users\\frida\\appdata\\local\\programs\\python\\python311\\lib\\site-packages (from gradio) (3.7.1)\n",
      "Requirement already satisfied: numpy~=1.0 in c:\\users\\frida\\appdata\\local\\programs\\python\\python311\\lib\\site-packages (from gradio) (1.25.0)\n",
      "Requirement already satisfied: orjson~=3.0 in c:\\users\\frida\\appdata\\local\\programs\\python\\python311\\lib\\site-packages (from gradio) (3.9.10)\n",
      "Requirement already satisfied: packaging in c:\\users\\frida\\appdata\\local\\programs\\python\\python311\\lib\\site-packages (from gradio) (23.1)\n",
      "Requirement already satisfied: pandas<3.0,>=1.0 in c:\\users\\frida\\appdata\\local\\programs\\python\\python311\\lib\\site-packages (from gradio) (2.0.3)\n",
      "Requirement already satisfied: pillow<11.0,>=8.0 in c:\\users\\frida\\appdata\\local\\programs\\python\\python311\\lib\\site-packages (from gradio) (10.0.0)\n",
      "Requirement already satisfied: pydantic>=2.0 in c:\\users\\frida\\appdata\\local\\programs\\python\\python311\\lib\\site-packages (from gradio) (2.5.0)\n",
      "Requirement already satisfied: pydub in c:\\users\\frida\\appdata\\local\\programs\\python\\python311\\lib\\site-packages (from gradio) (0.25.1)\n",
      "Requirement already satisfied: python-multipart in c:\\users\\frida\\appdata\\local\\programs\\python\\python311\\lib\\site-packages (from gradio) (0.0.6)\n",
      "Requirement already satisfied: pyyaml<7.0,>=5.0 in c:\\users\\frida\\appdata\\local\\programs\\python\\python311\\lib\\site-packages (from gradio) (6.0)\n",
      "Requirement already satisfied: requests~=2.0 in c:\\users\\frida\\appdata\\local\\programs\\python\\python311\\lib\\site-packages (from gradio) (2.31.0)\n",
      "Requirement already satisfied: semantic-version~=2.0 in c:\\users\\frida\\appdata\\local\\programs\\python\\python311\\lib\\site-packages (from gradio) (2.10.0)\n",
      "Requirement already satisfied: tomlkit==0.12.0 in c:\\users\\frida\\appdata\\local\\programs\\python\\python311\\lib\\site-packages (from gradio) (0.12.0)\n",
      "Requirement already satisfied: typer[all]<1.0,>=0.9 in c:\\users\\frida\\appdata\\local\\programs\\python\\python311\\lib\\site-packages (from gradio) (0.9.0)\n",
      "Requirement already satisfied: typing-extensions~=4.0 in c:\\users\\frida\\appdata\\local\\programs\\python\\python311\\lib\\site-packages (from gradio) (4.8.0)\n",
      "Requirement already satisfied: uvicorn>=0.14.0 in c:\\users\\frida\\appdata\\local\\programs\\python\\python311\\lib\\site-packages (from gradio) (0.24.0.post1)\n",
      "Requirement already satisfied: fsspec in c:\\users\\frida\\appdata\\local\\programs\\python\\python311\\lib\\site-packages (from gradio-client==0.7.0->gradio) (2023.10.0)\n",
      "Requirement already satisfied: websockets<12.0,>=10.0 in c:\\users\\frida\\appdata\\local\\programs\\python\\python311\\lib\\site-packages (from gradio-client==0.7.0->gradio) (11.0.3)\n",
      "Requirement already satisfied: jsonschema>=3.0 in c:\\users\\frida\\appdata\\local\\programs\\python\\python311\\lib\\site-packages (from altair<6.0,>=4.2.0->gradio) (4.17.3)\n",
      "Requirement already satisfied: toolz in c:\\users\\frida\\appdata\\local\\programs\\python\\python311\\lib\\site-packages (from altair<6.0,>=4.2.0->gradio) (0.12.0)\n",
      "Requirement already satisfied: filelock in c:\\users\\frida\\appdata\\local\\programs\\python\\python311\\lib\\site-packages (from huggingface-hub>=0.14.0->gradio) (3.13.1)\n",
      "Requirement already satisfied: tqdm>=4.42.1 in c:\\users\\frida\\appdata\\local\\programs\\python\\python311\\lib\\site-packages (from huggingface-hub>=0.14.0->gradio) (4.66.0)\n",
      "Requirement already satisfied: contourpy>=1.0.1 in c:\\users\\frida\\appdata\\local\\programs\\python\\python311\\lib\\site-packages (from matplotlib~=3.0->gradio) (1.1.0)\n",
      "Requirement already satisfied: cycler>=0.10 in c:\\users\\frida\\appdata\\local\\programs\\python\\python311\\lib\\site-packages (from matplotlib~=3.0->gradio) (0.11.0)\n",
      "Requirement already satisfied: fonttools>=4.22.0 in c:\\users\\frida\\appdata\\local\\programs\\python\\python311\\lib\\site-packages (from matplotlib~=3.0->gradio) (4.40.0)\n",
      "Requirement already satisfied: kiwisolver>=1.0.1 in c:\\users\\frida\\appdata\\local\\programs\\python\\python311\\lib\\site-packages (from matplotlib~=3.0->gradio) (1.4.4)\n",
      "Requirement already satisfied: pyparsing>=2.3.1 in c:\\users\\frida\\appdata\\local\\programs\\python\\python311\\lib\\site-packages (from matplotlib~=3.0->gradio) (3.1.0)\n",
      "Requirement already satisfied: python-dateutil>=2.7 in c:\\users\\frida\\appdata\\local\\programs\\python\\python311\\lib\\site-packages (from matplotlib~=3.0->gradio) (2.8.2)\n",
      "Requirement already satisfied: pytz>=2020.1 in c:\\users\\frida\\appdata\\local\\programs\\python\\python311\\lib\\site-packages (from pandas<3.0,>=1.0->gradio) (2023.3)\n",
      "Requirement already satisfied: tzdata>=2022.1 in c:\\users\\frida\\appdata\\local\\programs\\python\\python311\\lib\\site-packages (from pandas<3.0,>=1.0->gradio) (2023.3)\n",
      "Requirement already satisfied: annotated-types>=0.4.0 in c:\\users\\frida\\appdata\\local\\programs\\python\\python311\\lib\\site-packages (from pydantic>=2.0->gradio) (0.6.0)\n",
      "Requirement already satisfied: pydantic-core==2.14.1 in c:\\users\\frida\\appdata\\local\\programs\\python\\python311\\lib\\site-packages (from pydantic>=2.0->gradio) (2.14.1)\n",
      "Requirement already satisfied: charset-normalizer<4,>=2 in c:\\users\\frida\\appdata\\local\\programs\\python\\python311\\lib\\site-packages (from requests~=2.0->gradio) (3.2.0)\n",
      "Requirement already satisfied: idna<4,>=2.5 in c:\\users\\frida\\appdata\\local\\programs\\python\\python311\\lib\\site-packages (from requests~=2.0->gradio) (3.4)\n",
      "Requirement already satisfied: urllib3<3,>=1.21.1 in c:\\users\\frida\\appdata\\local\\programs\\python\\python311\\lib\\site-packages (from requests~=2.0->gradio) (2.0.4)\n",
      "Requirement already satisfied: certifi>=2017.4.17 in c:\\users\\frida\\appdata\\local\\programs\\python\\python311\\lib\\site-packages (from requests~=2.0->gradio) (2023.5.7)\n",
      "Requirement already satisfied: click<9.0.0,>=7.1.1 in c:\\users\\frida\\appdata\\local\\programs\\python\\python311\\lib\\site-packages (from typer[all]<1.0,>=0.9->gradio) (8.1.6)\n",
      "Requirement already satisfied: colorama<0.5.0,>=0.4.3 in c:\\users\\frida\\appdata\\local\\programs\\python\\python311\\lib\\site-packages (from typer[all]<1.0,>=0.9->gradio) (0.4.6)\n",
      "Requirement already satisfied: shellingham<2.0.0,>=1.3.0 in c:\\users\\frida\\appdata\\local\\programs\\python\\python311\\lib\\site-packages (from typer[all]<1.0,>=0.9->gradio) (1.5.4)\n",
      "Requirement already satisfied: rich<14.0.0,>=10.11.0 in c:\\users\\frida\\appdata\\local\\programs\\python\\python311\\lib\\site-packages (from typer[all]<1.0,>=0.9->gradio) (13.6.0)\n",
      "Requirement already satisfied: h11>=0.8 in c:\\users\\frida\\appdata\\local\\programs\\python\\python311\\lib\\site-packages (from uvicorn>=0.14.0->gradio) (0.14.0)\n",
      "Requirement already satisfied: anyio<4.0.0,>=3.7.1 in c:\\users\\frida\\appdata\\local\\programs\\python\\python311\\lib\\site-packages (from fastapi->gradio) (3.7.1)\n",
      "Requirement already satisfied: starlette<0.28.0,>=0.27.0 in c:\\users\\frida\\appdata\\local\\programs\\python\\python311\\lib\\site-packages (from fastapi->gradio) (0.27.0)\n",
      "Requirement already satisfied: httpcore in c:\\users\\frida\\appdata\\local\\programs\\python\\python311\\lib\\site-packages (from httpx->gradio) (1.0.2)\n",
      "Requirement already satisfied: sniffio in c:\\users\\frida\\appdata\\local\\programs\\python\\python311\\lib\\site-packages (from httpx->gradio) (1.3.0)\n",
      "Requirement already satisfied: attrs>=17.4.0 in c:\\users\\frida\\appdata\\local\\programs\\python\\python311\\lib\\site-packages (from jsonschema>=3.0->altair<6.0,>=4.2.0->gradio) (23.1.0)\n",
      "Requirement already satisfied: pyrsistent!=0.17.0,!=0.17.1,!=0.17.2,>=0.14.0 in c:\\users\\frida\\appdata\\local\\programs\\python\\python311\\lib\\site-packages (from jsonschema>=3.0->altair<6.0,>=4.2.0->gradio) (0.19.3)\n",
      "Requirement already satisfied: six>=1.5 in c:\\users\\frida\\appdata\\local\\programs\\python\\python311\\lib\\site-packages (from python-dateutil>=2.7->matplotlib~=3.0->gradio) (1.16.0)\n",
      "Requirement already satisfied: markdown-it-py>=2.2.0 in c:\\users\\frida\\appdata\\local\\programs\\python\\python311\\lib\\site-packages (from rich<14.0.0,>=10.11.0->typer[all]<1.0,>=0.9->gradio) (3.0.0)\n",
      "Requirement already satisfied: pygments<3.0.0,>=2.13.0 in c:\\users\\frida\\appdata\\local\\programs\\python\\python311\\lib\\site-packages (from rich<14.0.0,>=10.11.0->typer[all]<1.0,>=0.9->gradio) (2.15.1)\n",
      "Requirement already satisfied: mdurl~=0.1 in c:\\users\\frida\\appdata\\local\\programs\\python\\python311\\lib\\site-packages (from markdown-it-py>=2.2.0->rich<14.0.0,>=10.11.0->typer[all]<1.0,>=0.9->gradio) (0.1.2)\n",
      "\n"
     ]
    },
    {
     "name": "stderr",
     "output_type": "stream",
     "text": [
      "\n",
      "[notice] A new release of pip is available: 23.1.2 -> 23.3.1\n",
      "[notice] To update, run: python.exe -m pip install --upgrade pip\n"
     ]
    }
   ],
   "source": [
    "pip install gradio\n"
   ]
  },
  {
   "cell_type": "code",
   "execution_count": 4,
   "metadata": {
    "colab": {
     "base_uri": "https://localhost:8080/"
    },
    "id": "hQAMjNRjlFkr",
    "outputId": "29277909-6433-4e64-e9a8-ec5e48e5d495"
   },
   "outputs": [
    {
     "name": "stdout",
     "output_type": "stream",
     "text": [
      "Requirement already satisfied: gradio in c:\\users\\frida\\appdata\\local\\programs\\python\\python311\\lib\\site-packages (4.3.0)Note: you may need to restart the kernel to use updated packages.\n",
      "\n",
      "Requirement already satisfied: aiofiles<24.0,>=22.0 in c:\\users\\frida\\appdata\\local\\programs\\python\\python311\\lib\\site-packages (from gradio) (23.2.1)\n",
      "Requirement already satisfied: altair<6.0,>=4.2.0 in c:\\users\\frida\\appdata\\local\\programs\\python\\python311\\lib\\site-packages (from gradio) (5.1.2)\n",
      "Requirement already satisfied: fastapi in c:\\users\\frida\\appdata\\local\\programs\\python\\python311\\lib\\site-packages (from gradio) (0.104.1)\n",
      "Requirement already satisfied: ffmpy in c:\\users\\frida\\appdata\\local\\programs\\python\\python311\\lib\\site-packages (from gradio) (0.3.1)\n",
      "Requirement already satisfied: gradio-client==0.7.0 in c:\\users\\frida\\appdata\\local\\programs\\python\\python311\\lib\\site-packages (from gradio) (0.7.0)\n",
      "Requirement already satisfied: httpx in c:\\users\\frida\\appdata\\local\\programs\\python\\python311\\lib\\site-packages (from gradio) (0.25.1)\n",
      "Requirement already satisfied: huggingface-hub>=0.14.0 in c:\\users\\frida\\appdata\\local\\programs\\python\\python311\\lib\\site-packages (from gradio) (0.19.1)\n",
      "Requirement already satisfied: importlib-resources<7.0,>=1.3 in c:\\users\\frida\\appdata\\local\\programs\\python\\python311\\lib\\site-packages (from gradio) (6.1.1)\n",
      "Requirement already satisfied: jinja2<4.0 in c:\\users\\frida\\appdata\\local\\programs\\python\\python311\\lib\\site-packages (from gradio) (3.1.2)\n",
      "Requirement already satisfied: markupsafe~=2.0 in c:\\users\\frida\\appdata\\local\\programs\\python\\python311\\lib\\site-packages (from gradio) (2.1.3)\n",
      "Requirement already satisfied: matplotlib~=3.0 in c:\\users\\frida\\appdata\\local\\programs\\python\\python311\\lib\\site-packages (from gradio) (3.7.1)\n",
      "Requirement already satisfied: numpy~=1.0 in c:\\users\\frida\\appdata\\local\\programs\\python\\python311\\lib\\site-packages (from gradio) (1.25.0)\n",
      "Requirement already satisfied: orjson~=3.0 in c:\\users\\frida\\appdata\\local\\programs\\python\\python311\\lib\\site-packages (from gradio) (3.9.10)\n",
      "Requirement already satisfied: packaging in c:\\users\\frida\\appdata\\local\\programs\\python\\python311\\lib\\site-packages (from gradio) (23.1)\n",
      "Requirement already satisfied: pandas<3.0,>=1.0 in c:\\users\\frida\\appdata\\local\\programs\\python\\python311\\lib\\site-packages (from gradio) (2.0.3)\n",
      "Requirement already satisfied: pillow<11.0,>=8.0 in c:\\users\\frida\\appdata\\local\\programs\\python\\python311\\lib\\site-packages (from gradio) (10.0.0)\n",
      "Requirement already satisfied: pydantic>=2.0 in c:\\users\\frida\\appdata\\local\\programs\\python\\python311\\lib\\site-packages (from gradio) (2.5.0)\n",
      "Requirement already satisfied: pydub in c:\\users\\frida\\appdata\\local\\programs\\python\\python311\\lib\\site-packages (from gradio) (0.25.1)\n",
      "Requirement already satisfied: python-multipart in c:\\users\\frida\\appdata\\local\\programs\\python\\python311\\lib\\site-packages (from gradio) (0.0.6)\n",
      "Requirement already satisfied: pyyaml<7.0,>=5.0 in c:\\users\\frida\\appdata\\local\\programs\\python\\python311\\lib\\site-packages (from gradio) (6.0)\n",
      "Requirement already satisfied: requests~=2.0 in c:\\users\\frida\\appdata\\local\\programs\\python\\python311\\lib\\site-packages (from gradio) (2.31.0)\n",
      "Requirement already satisfied: semantic-version~=2.0 in c:\\users\\frida\\appdata\\local\\programs\\python\\python311\\lib\\site-packages (from gradio) (2.10.0)\n",
      "Requirement already satisfied: tomlkit==0.12.0 in c:\\users\\frida\\appdata\\local\\programs\\python\\python311\\lib\\site-packages (from gradio) (0.12.0)\n",
      "Requirement already satisfied: typer[all]<1.0,>=0.9 in c:\\users\\frida\\appdata\\local\\programs\\python\\python311\\lib\\site-packages (from gradio) (0.9.0)\n",
      "Requirement already satisfied: typing-extensions~=4.0 in c:\\users\\frida\\appdata\\local\\programs\\python\\python311\\lib\\site-packages (from gradio) (4.8.0)\n",
      "Requirement already satisfied: uvicorn>=0.14.0 in c:\\users\\frida\\appdata\\local\\programs\\python\\python311\\lib\\site-packages (from gradio) (0.24.0.post1)\n",
      "Requirement already satisfied: fsspec in c:\\users\\frida\\appdata\\local\\programs\\python\\python311\\lib\\site-packages (from gradio-client==0.7.0->gradio) (2023.10.0)\n",
      "Requirement already satisfied: websockets<12.0,>=10.0 in c:\\users\\frida\\appdata\\local\\programs\\python\\python311\\lib\\site-packages (from gradio-client==0.7.0->gradio) (11.0.3)\n",
      "Requirement already satisfied: jsonschema>=3.0 in c:\\users\\frida\\appdata\\local\\programs\\python\\python311\\lib\\site-packages (from altair<6.0,>=4.2.0->gradio) (4.17.3)\n",
      "Requirement already satisfied: toolz in c:\\users\\frida\\appdata\\local\\programs\\python\\python311\\lib\\site-packages (from altair<6.0,>=4.2.0->gradio) (0.12.0)\n",
      "Requirement already satisfied: filelock in c:\\users\\frida\\appdata\\local\\programs\\python\\python311\\lib\\site-packages (from huggingface-hub>=0.14.0->gradio) (3.13.1)\n",
      "Requirement already satisfied: tqdm>=4.42.1 in c:\\users\\frida\\appdata\\local\\programs\\python\\python311\\lib\\site-packages (from huggingface-hub>=0.14.0->gradio) (4.66.0)\n",
      "Requirement already satisfied: contourpy>=1.0.1 in c:\\users\\frida\\appdata\\local\\programs\\python\\python311\\lib\\site-packages (from matplotlib~=3.0->gradio) (1.1.0)\n",
      "Requirement already satisfied: cycler>=0.10 in c:\\users\\frida\\appdata\\local\\programs\\python\\python311\\lib\\site-packages (from matplotlib~=3.0->gradio) (0.11.0)\n",
      "Requirement already satisfied: fonttools>=4.22.0 in c:\\users\\frida\\appdata\\local\\programs\\python\\python311\\lib\\site-packages (from matplotlib~=3.0->gradio) (4.40.0)\n",
      "Requirement already satisfied: kiwisolver>=1.0.1 in c:\\users\\frida\\appdata\\local\\programs\\python\\python311\\lib\\site-packages (from matplotlib~=3.0->gradio) (1.4.4)\n",
      "Requirement already satisfied: pyparsing>=2.3.1 in c:\\users\\frida\\appdata\\local\\programs\\python\\python311\\lib\\site-packages (from matplotlib~=3.0->gradio) (3.1.0)\n",
      "Requirement already satisfied: python-dateutil>=2.7 in c:\\users\\frida\\appdata\\local\\programs\\python\\python311\\lib\\site-packages (from matplotlib~=3.0->gradio) (2.8.2)\n",
      "Requirement already satisfied: pytz>=2020.1 in c:\\users\\frida\\appdata\\local\\programs\\python\\python311\\lib\\site-packages (from pandas<3.0,>=1.0->gradio) (2023.3)\n",
      "Requirement already satisfied: tzdata>=2022.1 in c:\\users\\frida\\appdata\\local\\programs\\python\\python311\\lib\\site-packages (from pandas<3.0,>=1.0->gradio) (2023.3)\n",
      "Requirement already satisfied: annotated-types>=0.4.0 in c:\\users\\frida\\appdata\\local\\programs\\python\\python311\\lib\\site-packages (from pydantic>=2.0->gradio) (0.6.0)\n",
      "Requirement already satisfied: pydantic-core==2.14.1 in c:\\users\\frida\\appdata\\local\\programs\\python\\python311\\lib\\site-packages (from pydantic>=2.0->gradio) (2.14.1)\n",
      "Requirement already satisfied: charset-normalizer<4,>=2 in c:\\users\\frida\\appdata\\local\\programs\\python\\python311\\lib\\site-packages (from requests~=2.0->gradio) (3.2.0)\n",
      "Requirement already satisfied: idna<4,>=2.5 in c:\\users\\frida\\appdata\\local\\programs\\python\\python311\\lib\\site-packages (from requests~=2.0->gradio) (3.4)\n",
      "Requirement already satisfied: urllib3<3,>=1.21.1 in c:\\users\\frida\\appdata\\local\\programs\\python\\python311\\lib\\site-packages (from requests~=2.0->gradio) (2.0.4)\n",
      "Requirement already satisfied: certifi>=2017.4.17 in c:\\users\\frida\\appdata\\local\\programs\\python\\python311\\lib\\site-packages (from requests~=2.0->gradio) (2023.5.7)\n",
      "Requirement already satisfied: click<9.0.0,>=7.1.1 in c:\\users\\frida\\appdata\\local\\programs\\python\\python311\\lib\\site-packages (from typer[all]<1.0,>=0.9->gradio) (8.1.6)\n",
      "Requirement already satisfied: colorama<0.5.0,>=0.4.3 in c:\\users\\frida\\appdata\\local\\programs\\python\\python311\\lib\\site-packages (from typer[all]<1.0,>=0.9->gradio) (0.4.6)\n",
      "Requirement already satisfied: shellingham<2.0.0,>=1.3.0 in c:\\users\\frida\\appdata\\local\\programs\\python\\python311\\lib\\site-packages (from typer[all]<1.0,>=0.9->gradio) (1.5.4)\n",
      "Requirement already satisfied: rich<14.0.0,>=10.11.0 in c:\\users\\frida\\appdata\\local\\programs\\python\\python311\\lib\\site-packages (from typer[all]<1.0,>=0.9->gradio) (13.6.0)\n",
      "Requirement already satisfied: h11>=0.8 in c:\\users\\frida\\appdata\\local\\programs\\python\\python311\\lib\\site-packages (from uvicorn>=0.14.0->gradio) (0.14.0)\n",
      "Requirement already satisfied: anyio<4.0.0,>=3.7.1 in c:\\users\\frida\\appdata\\local\\programs\\python\\python311\\lib\\site-packages (from fastapi->gradio) (3.7.1)\n",
      "Requirement already satisfied: starlette<0.28.0,>=0.27.0 in c:\\users\\frida\\appdata\\local\\programs\\python\\python311\\lib\\site-packages (from fastapi->gradio) (0.27.0)\n",
      "Requirement already satisfied: httpcore in c:\\users\\frida\\appdata\\local\\programs\\python\\python311\\lib\\site-packages (from httpx->gradio) (1.0.2)\n",
      "Requirement already satisfied: sniffio in c:\\users\\frida\\appdata\\local\\programs\\python\\python311\\lib\\site-packages (from httpx->gradio) (1.3.0)\n",
      "Requirement already satisfied: attrs>=17.4.0 in c:\\users\\frida\\appdata\\local\\programs\\python\\python311\\lib\\site-packages (from jsonschema>=3.0->altair<6.0,>=4.2.0->gradio) (23.1.0)\n",
      "Requirement already satisfied: pyrsistent!=0.17.0,!=0.17.1,!=0.17.2,>=0.14.0 in c:\\users\\frida\\appdata\\local\\programs\\python\\python311\\lib\\site-packages (from jsonschema>=3.0->altair<6.0,>=4.2.0->gradio) (0.19.3)\n",
      "Requirement already satisfied: six>=1.5 in c:\\users\\frida\\appdata\\local\\programs\\python\\python311\\lib\\site-packages (from python-dateutil>=2.7->matplotlib~=3.0->gradio) (1.16.0)\n",
      "Requirement already satisfied: markdown-it-py>=2.2.0 in c:\\users\\frida\\appdata\\local\\programs\\python\\python311\\lib\\site-packages (from rich<14.0.0,>=10.11.0->typer[all]<1.0,>=0.9->gradio) (3.0.0)\n",
      "Requirement already satisfied: pygments<3.0.0,>=2.13.0 in c:\\users\\frida\\appdata\\local\\programs\\python\\python311\\lib\\site-packages (from rich<14.0.0,>=10.11.0->typer[all]<1.0,>=0.9->gradio) (2.15.1)\n",
      "Requirement already satisfied: mdurl~=0.1 in c:\\users\\frida\\appdata\\local\\programs\\python\\python311\\lib\\site-packages (from markdown-it-py>=2.2.0->rich<14.0.0,>=10.11.0->typer[all]<1.0,>=0.9->gradio) (0.1.2)\n"
     ]
    },
    {
     "name": "stderr",
     "output_type": "stream",
     "text": [
      "\n",
      "[notice] A new release of pip is available: 23.1.2 -> 23.3.1\n",
      "[notice] To update, run: python.exe -m pip install --upgrade pip\n"
     ]
    }
   ],
   "source": [
    "pip install gradio --upgrade\n"
   ]
  },
  {
   "cell_type": "code",
   "execution_count": 5,
   "metadata": {
    "colab": {
     "base_uri": "https://localhost:8080/",
     "height": 646
    },
    "id": "sMy6zTdq2tAl",
    "outputId": "a844a0ea-4642-413a-e5fc-99cb2130f04f"
   },
   "outputs": [
    {
     "ename": "NameError",
     "evalue": "name 'load_model' is not defined",
     "output_type": "error",
     "traceback": [
      "\u001b[1;31m---------------------------------------------------------------------------\u001b[0m",
      "\u001b[1;31mNameError\u001b[0m                                 Traceback (most recent call last)",
      "Cell \u001b[1;32mIn[5], line 4\u001b[0m\n\u001b[0;32m      1\u001b[0m \u001b[38;5;28;01mimport\u001b[39;00m \u001b[38;5;21;01mgradio\u001b[39;00m \u001b[38;5;28;01mas\u001b[39;00m \u001b[38;5;21;01mgr\u001b[39;00m\n\u001b[0;32m      3\u001b[0m \u001b[38;5;66;03m# Load your pre-trained deep learning model\u001b[39;00m\n\u001b[1;32m----> 4\u001b[0m model \u001b[38;5;241m=\u001b[39m \u001b[43mload_model\u001b[49m(\u001b[38;5;124m'\u001b[39m\u001b[38;5;124mC:/Users/frida/Downloads/best_model2_train_acc.h5\u001b[39m\u001b[38;5;124m'\u001b[39m)\n\u001b[0;32m      6\u001b[0m \u001b[38;5;66;03m# Function to classify an image using the loaded model\u001b[39;00m\n\u001b[0;32m      7\u001b[0m \u001b[38;5;28;01mdef\u001b[39;00m \u001b[38;5;21mclassify_image\u001b[39m(img1, img2):\n\u001b[0;32m      8\u001b[0m     \u001b[38;5;66;03m# Function to preprocess the image before feeding it to the model\u001b[39;00m\n",
      "\u001b[1;31mNameError\u001b[0m: name 'load_model' is not defined"
     ]
    }
   ],
   "source": [
    "import gradio as gr\n",
    "\n",
    "# Load your pre-trained deep learning model\n",
    "model = load_model('C:/Users/frida/Downloads/best_model2_train_acc.h5')\n",
    "\n",
    "# Function to classify an image using the loaded model\n",
    "def classify_image(img1, img2):\n",
    "    # Function to preprocess the image before feeding it to the model\n",
    "    def preprocess_image(img):\n",
    "        img_resized = img.resize((224, 224))  # Resize the image to 224x224\n",
    "        img_array = image.img_to_array(img_resized)\n",
    "        img_array = np.expand_dims(img_array, axis=0)\n",
    "        img_array = preprocess_input(img_array)\n",
    "        return img_array\n",
    "\n",
    "    # Load and preprocess the first image\n",
    "    input_data1 = preprocess_image(img1)\n",
    "    # Get the model predictions for the first image\n",
    "    predictions1 = model.predict(input_data1)\n",
    "    # Get the predicted class and confidence for the first image\n",
    "    class1 = np.argmax(predictions1[0])\n",
    "    confidence1 = predictions1[0][class1]\n",
    "\n",
    "    # Load and preprocess the second image\n",
    "    input_data2 = preprocess_image(img2)\n",
    "    # Get the model predictions for the second image\n",
    "    predictions2 = model.predict(input_data2)\n",
    "    # Get the predicted class and confidence for the second image\n",
    "    class2 = np.argmax(predictions2[0])\n",
    "    confidence2 = predictions2[0][class2]\n",
    "\n",
    "    result = {\n",
    "        \"Image 1\": {\n",
    "            \"Class\": class1,\n",
    "            \"Confidence\": confidence1\n",
    "        },\n",
    "        \"Image 2\": {\n",
    "            \"Class\": class2,\n",
    "            \"Confidence\": confidence2\n",
    "        }\n",
    "    }\n",
    "    def compare_signatures(result):\n",
    "        # Compare the class values and set the result message\n",
    "        if result[\"Image 1\"][\"Class\"] == result[\"Image 2\"][\"Class\"]:\n",
    "            result[\"Match\"] = \"The Signatures match!\"  # Green text\n",
    "        else:\n",
    "            result[\"Match\"] = \"Signatures do not match!\"  # Red text\n",
    "\n",
    "    compare_signatures(result)\n",
    "    return result\n",
    "\n",
    "\n",
    "# Gradio interface\n",
    "iface = gr.Interface(\n",
    "    fn=classify_image,\n",
    "    inputs=[\n",
    "        gr.Image(type=\"pil\", label=\"Upload Image 1\"),\n",
    "        gr.Image(type=\"pil\", label=\"Upload Image 2\")\n",
    "    ],\n",
    "    outputs=gr.Textbox(type=\"text\"),\n",
    "    live=False\n",
    ")\n",
    "\n",
    "iface.launch()\n"
   ]
  },
  {
   "cell_type": "code",
   "execution_count": null,
   "metadata": {},
   "outputs": [],
   "source": []
  }
 ],
 "metadata": {
  "colab": {
   "provenance": []
  },
  "kernelspec": {
   "display_name": "Python 3 (ipykernel)",
   "language": "python",
   "name": "python3"
  },
  "language_info": {
   "codemirror_mode": {
    "name": "ipython",
    "version": 3
   },
   "file_extension": ".py",
   "mimetype": "text/x-python",
   "name": "python",
   "nbconvert_exporter": "python",
   "pygments_lexer": "ipython3",
   "version": "3.11.3"
  }
 },
 "nbformat": 4,
 "nbformat_minor": 1
}
